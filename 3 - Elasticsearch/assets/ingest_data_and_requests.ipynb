{
 "cells": [
  {
   "cell_type": "code",
   "execution_count": 1,
   "id": "pharmaceutical-opposition",
   "metadata": {
    "ExecuteTime": {
     "end_time": "2021-03-26T21:55:36.931077Z",
     "start_time": "2021-03-26T21:55:36.092847Z"
    }
   },
   "outputs": [],
   "source": [
    "import json \n",
    "from tqdm.notebook import tqdm\n",
    "import threading\n",
    "from elasticsearch import Elasticsearch\n",
    "from multiprocessing.pool import ThreadPool"
   ]
  },
  {
   "cell_type": "code",
   "execution_count": 2,
   "id": "confused-bridal",
   "metadata": {
    "ExecuteTime": {
     "end_time": "2021-03-26T21:55:38.413188Z",
     "start_time": "2021-03-26T21:55:36.933003Z"
    }
   },
   "outputs": [],
   "source": [
    "es = Elasticsearch('127.0.0.1', port=9200)\n",
    "\n",
    "''' Reading JSON file '''\n",
    "fr = open(\"imdb.json\", \"r\", encoding=\"utf-8\")\n",
    "text = fr.read()\n",
    "fr.close()\n",
    "\n",
    "''' Creating required index '''\n",
    "try:\n",
    "    es.indices.delete(index='project_3', ignore=[400, 404])\n",
    "except Exception as e:\n",
    "    pass\n",
    "\n",
    "create_index = es.indices.create(index='project_3', ignore=400)\n",
    "\n",
    "jd = json.loads(text)"
   ]
  },
  {
   "cell_type": "code",
   "execution_count": 3,
   "id": "western-julian",
   "metadata": {
    "ExecuteTime": {
     "end_time": "2021-03-26T21:55:38.429186Z",
     "start_time": "2021-03-26T21:55:38.414191Z"
    }
   },
   "outputs": [],
   "source": [
    "def parse_and_load(jd, pos):\n",
    "    for item in tqdm(jd, position=pos):\n",
    "        try:\n",
    "            ''' Retrieving required info '''\n",
    "            d = {}\n",
    "\n",
    "            for field_str in ['title', 'plot', 'fullplot']:\n",
    "                try: d[field_str] = item[field_str]\n",
    "                except Exception as e: d[field_str] = ''\n",
    "\n",
    "            try: d['year'] = int(item['year'])\n",
    "            except Exception as e: d['year'] = 0\n",
    "\n",
    "            try: d['imdb_rating'] = float(item['imdb']['rating'])\n",
    "            except Exception as e: d['imdb_rating'] = 0.0\n",
    "\n",
    "            try: d['tomatoes_rating'] = float(item['tomatoes']['viewer']['rating'])\n",
    "            except Exception as e: d['tomatoes_rating'] = 0.0\n",
    "\n",
    "            for lst in ['directors', 'countries', 'genres']:\n",
    "                try: d[lst] = item[lst]\n",
    "                except Exception as e: d[lst] = []\n",
    "\n",
    "            res = es.index(index=\"project_3\", body=d)\n",
    "\n",
    "        except Exception as e:\n",
    "            print (e)"
   ]
  },
  {
   "cell_type": "code",
   "execution_count": 4,
   "id": "stock-mills",
   "metadata": {
    "ExecuteTime": {
     "end_time": "2021-03-26T21:55:38.444218Z",
     "start_time": "2021-03-26T21:55:38.431238Z"
    }
   },
   "outputs": [],
   "source": [
    "def chunk_list(in_lst, chunk_size):\n",
    "    for i in range(0, len(in_lst), chunk_size):\n",
    "        yield in_lst[i:i + chunk_size]"
   ]
  },
  {
   "cell_type": "code",
   "execution_count": 5,
   "id": "still-silicon",
   "metadata": {
    "ExecuteTime": {
     "end_time": "2021-03-26T21:59:19.862652Z",
     "start_time": "2021-03-26T21:55:38.445187Z"
    }
   },
   "outputs": [
    {
     "data": {
      "application/vnd.jupyter.widget-view+json": {
       "model_id": "dfdfd8c92cf84641bafc53ace600365e",
       "version_major": 2,
       "version_minor": 0
      },
      "text/plain": [
       "  0%|          | 0/22969 [00:00<?, ?it/s]"
      ]
     },
     "metadata": {},
     "output_type": "display_data"
    },
    {
     "data": {
      "application/vnd.jupyter.widget-view+json": {
       "model_id": "c582ad4cc0994d8791496bfbbe7df874",
       "version_major": 2,
       "version_minor": 0
      },
      "text/plain": [
       "  0%|          | 0/22969 [00:00<?, ?it/s]"
      ]
     },
     "metadata": {},
     "output_type": "display_data"
    }
   ],
   "source": [
    "N_THREADS = 2\n",
    "chunks = chunk_list(jd, len(jd)//N_THREADS)\n",
    "threads = list()\n",
    "\n",
    "for th_i, chunk in zip(range(N_THREADS), chunks):\n",
    "    threads.append(threading.Thread(target=parse_and_load, args=(chunk,th_i,)))\n",
    "    threads[th_i].start()\n",
    "\n",
    "for thread in threads:\n",
    "    thread.join() "
   ]
  },
  {
   "cell_type": "code",
   "execution_count": 6,
   "id": "lesbian-faculty",
   "metadata": {
    "ExecuteTime": {
     "end_time": "2021-03-26T21:59:22.893040Z",
     "start_time": "2021-03-26T21:59:19.864654Z"
    }
   },
   "outputs": [
    {
     "data": {
      "text/plain": [
       "[{'epoch': '1616795961', 'timestamp': '21:59:21', 'count': '45938'}]"
      ]
     },
     "execution_count": 6,
     "metadata": {},
     "output_type": "execute_result"
    }
   ],
   "source": [
    "es.indices.refresh('project_3')\n",
    "es.cat.count('project_3', params={\"format\": \"json\"})"
   ]
  },
  {
   "cell_type": "code",
   "execution_count": 7,
   "id": "offshore-intro",
   "metadata": {
    "ExecuteTime": {
     "end_time": "2021-03-26T21:59:23.066557Z",
     "start_time": "2021-03-26T21:59:22.897571Z"
    }
   },
   "outputs": [
    {
     "name": "stdout",
     "output_type": "stream",
     "text": [
      "5.96776 The Life and Death of Colonel Blimp\n",
      "5.8774576 Story of G.I. Joe\n",
      "5.803811 The Battle of Britain\n",
      "5.7515407 The Nazis Strike\n",
      "5.5533576 Divide and Conquer\n",
      "5.5533576 Divide and Conquer\n",
      "5.371045 Random Harvest\n",
      "5.3277254 Ichiban utsukushiku\n",
      "5.238765 The Well-Digger's Daughter\n",
      "5.2027693 Listen to Britain\n"
     ]
    }
   ],
   "source": [
    "# Get the list of the first 10 movies that have been published\n",
    "# between 1939 and 1945 and best matches the word “war” in the plot.\n",
    "res = es.search(index=\"project_3\", body={\n",
    "\"query\": {\n",
    "    \"bool\":{\n",
    "        \"must\":[{\n",
    "            \"match\":{\n",
    "                \"plot\": \"war\" \n",
    "            }},{\n",
    "            \"range\": {\n",
    "                \"year\": {\n",
    "                    \"gte\": 1939,\n",
    "                    \"lte\": 1945\n",
    "                }\n",
    "            }}\n",
    "        ]\n",
    "    }\n",
    "},\n",
    "\"size\": 10\n",
    "})\n",
    "\n",
    "for doc in res['hits']['hits']:\n",
    "    print (doc[\"_score\"], doc[\"_source\"][\"title\"])"
   ]
  },
  {
   "cell_type": "code",
   "execution_count": 8,
   "id": "literary-brook",
   "metadata": {
    "ExecuteTime": {
     "end_time": "2021-03-26T21:59:23.177382Z",
     "start_time": "2021-03-26T21:59:23.070550Z"
    }
   },
   "outputs": [
    {
     "name": "stdout",
     "output_type": "stream",
     "text": [
      "11.599296 Iron Man 3\n",
      "11.04736 With Great Power: The Stan Lee Story\n",
      "10.932037 Tetsuo II: Body Hammer\n",
      "10.29641 Drunken Tai Chi\n",
      "10.228993 Marvel One-Shot: All Hail the King\n",
      "10.050875 Iron Man\n",
      "9.71492 The Avengers\n",
      "9.71492 Iron Man 2\n",
      "9.402206 Iron Monkey\n",
      "9.165083 The Iron Ministry\n",
      "9.05147 Generation Iron\n",
      "9.01878 Deadly Advice\n",
      "9.01878 Deadly Advice\n",
      "9.001775 Avengers: Age of Ultron\n",
      "8.898079 An American Romance\n",
      "8.84136 The Sessions\n",
      "8.72884 Iron Maiden: Flight 666\n",
      "8.587389 Revansa\n",
      "8.53908 Iron Man\n",
      "8.53908 The Mysterious Geographic Explorations of Jasper Morello\n"
     ]
    }
   ],
   "source": [
    "# Get the list of the first 20 movies that have an average IMDB\n",
    "# rating higher than 6.0 and best matches “Iron Man” in the full plot.\n",
    "res = es.search(index=\"project_3\", body={\n",
    "\"query\": {\n",
    "    \"bool\":{\n",
    "        \"must\":[{\n",
    "            \"match\":{\n",
    "                \"fullplot\": \"Iron Man\" \n",
    "            }},{\n",
    "            \"range\": {\n",
    "                \"imdb_rating\": {\n",
    "                    \"gt\": 6.0\n",
    "                }\n",
    "            }}\n",
    "        ]\n",
    "    }\n",
    "},\n",
    "\"size\": 20\n",
    "})\n",
    "\n",
    "for doc in res['hits']['hits']:\n",
    "    print (doc[\"_score\"], doc[\"_source\"][\"title\"])"
   ]
  },
  {
   "cell_type": "code",
   "execution_count": 9,
   "id": "verbal-monster",
   "metadata": {
    "ExecuteTime": {
     "end_time": "2021-03-26T21:59:23.303626Z",
     "start_time": "2021-03-26T21:59:23.180367Z"
    }
   },
   "outputs": [
    {
     "name": "stdout",
     "output_type": "stream",
     "text": [
      "89.26549 The Matrix, score: 8.7\n",
      "65.56894 The Matrix Revisited, score: 7.4\n",
      "63.796803 The Matrix Reloaded, score: 7.2\n",
      "59.36647 The Matrix Revolutions, score: 6.7\n",
      "57.594337 Armitage: Dual Matrix, score: 6.5\n",
      "50.299583 Return to Source: Philosophy & 'The Matrix', score: 8.0\n"
     ]
    }
   ],
   "source": [
    "# Search for the movies that best match the text query “matrix” in the title. Boost the results\n",
    "#by multiplying the standard score with the IMDB rating score. Repeat the same query\n",
    "#considering the Rotten Tomatoes score instead of IMDB. Does the order of the results change?\n",
    "res = es.search(index=\"project_3\", body={\n",
    "\"query\": {\n",
    "    \"function_score\": {\n",
    "        \"query\": {\n",
    "            \"match\":{\n",
    "                \"title\": \"matrix\",\n",
    "            },\n",
    "        },\n",
    "        \"script_score\": {\n",
    "            \"script\": {\n",
    "                \"source\": \"doc.containsKey('imdb_rating') ? doc['imdb_rating'].value : 1\"\n",
    "            }\n",
    "        }\n",
    "    }\n",
    "}})\n",
    "\n",
    "for doc in res['hits']['hits']:\n",
    "    print (doc[\"_score\"], doc[\"_source\"][\"title\"]+',', 'score:', doc[\"_source\"]['imdb_rating'])\n",
    "    \n",
    "# \"boost_mode\": \"multiply\" is the default so we can avoid to write it"
   ]
  },
  {
   "cell_type": "code",
   "execution_count": 10,
   "id": "signal-medicare",
   "metadata": {
    "ExecuteTime": {
     "end_time": "2021-03-26T21:59:23.350868Z",
     "start_time": "2021-03-26T21:59:23.307179Z"
    }
   },
   "outputs": [
    {
     "name": "stdout",
     "output_type": "stream",
     "text": [
      "36.937443 The Matrix, score: 3.6\n",
      "31.012335 Armitage: Dual Matrix, score: 3.5\n",
      "30.12627 The Matrix Revisited, score: 3.4\n",
      "30.12627 The Matrix Reloaded, score: 3.4\n",
      "30.12627 The Matrix Revolutions, score: 3.4\n",
      "27.664772 Return to Source: Philosophy & 'The Matrix', score: 4.4\n"
     ]
    }
   ],
   "source": [
    "# using Rotten Tomatoes\n",
    "\n",
    "res = es.search(index=\"project_3\", body={\n",
    "\"query\": {\n",
    "    \"function_score\": {\n",
    "        \"query\": {\n",
    "            \"match\":{\n",
    "                \"title\": \"matrix\",\n",
    "            },\n",
    "        },\n",
    "        \"script_score\": {\n",
    "            \"script\": {\n",
    "                \"source\": \"doc.containsKey('tomatoes_rating') ? doc['tomatoes_rating'].value : 1\"\n",
    "            }\n",
    "        }\n",
    "    }\n",
    "}})\n",
    "\n",
    "for doc in res['hits']['hits']:\n",
    "    print (doc[\"_score\"], doc[\"_source\"][\"title\"]+',', 'score:', doc[\"_source\"]['tomatoes_rating'])"
   ]
  },
  {
   "cell_type": "code",
   "execution_count": 33,
   "id": "split-steel",
   "metadata": {
    "ExecuteTime": {
     "end_time": "2021-03-26T22:18:51.340358Z",
     "start_time": "2021-03-26T22:18:51.306422Z"
    }
   },
   "outputs": [
    {
     "name": "stdout",
     "output_type": "stream",
     "text": [
      "80.38469 Donnie Brasco\n",
      "77.17743 The Boondock Saints\n",
      "75.18646 Nayakan\n",
      "75.18646 Nayakan\n",
      "74.71821 Confessions of a Police Captain\n"
     ]
    }
   ],
   "source": [
    "res = es.search(index=\"project_3\", body={\n",
    "\"query\": {\n",
    "    \"function_score\": {\n",
    "        \"query\": {\n",
    "            \"bool\":{\n",
    "                \"must\":[{\n",
    "                    \"match\":{\n",
    "                        \"fullplot\": \"mafia\"\n",
    "                    }},{\n",
    "                    \"range\": {\n",
    "                        \"imdb_rating\": {\n",
    "                            \"gt\": 7.0\n",
    "                        }\n",
    "                    }},{\n",
    "                    \"range\": {\n",
    "                        \"year\": {\n",
    "                            \"lt\": 2000\n",
    "                        }\n",
    "                    }}\n",
    "                ]\n",
    "            }\n",
    "        },\n",
    "        \"script_score\": {\n",
    "            \"script\": {\n",
    "                \"source\": \"doc.containsKey('imdb_rating') ? doc['imdb_rating'].value : 1\"\n",
    "            }\n",
    "        }\n",
    "    }\n",
    "},\n",
    "\"size\": 5\n",
    "})\n",
    "\n",
    "for doc in res['hits']['hits']:\n",
    "    print (doc[\"_score\"], doc[\"_source\"][\"title\"])"
   ]
  }
 ],
 "metadata": {
  "kernelspec": {
   "display_name": "Python 3",
   "language": "python",
   "name": "python3"
  },
  "language_info": {
   "codemirror_mode": {
    "name": "ipython",
    "version": 3
   },
   "file_extension": ".py",
   "mimetype": "text/x-python",
   "name": "python",
   "nbconvert_exporter": "python",
   "pygments_lexer": "ipython3",
   "version": "3.8.8"
  },
  "toc": {
   "base_numbering": 1,
   "nav_menu": {},
   "number_sections": true,
   "sideBar": true,
   "skip_h1_title": false,
   "title_cell": "Table of Contents",
   "title_sidebar": "Contents",
   "toc_cell": false,
   "toc_position": {},
   "toc_section_display": true,
   "toc_window_display": false
  },
  "varInspector": {
   "cols": {
    "lenName": 16,
    "lenType": 16,
    "lenVar": 40
   },
   "kernels_config": {
    "python": {
     "delete_cmd_postfix": "",
     "delete_cmd_prefix": "del ",
     "library": "var_list.py",
     "varRefreshCmd": "print(var_dic_list())"
    },
    "r": {
     "delete_cmd_postfix": ") ",
     "delete_cmd_prefix": "rm(",
     "library": "var_list.r",
     "varRefreshCmd": "cat(var_dic_list()) "
    }
   },
   "types_to_exclude": [
    "module",
    "function",
    "builtin_function_or_method",
    "instance",
    "_Feature"
   ],
   "window_display": false
  }
 },
 "nbformat": 4,
 "nbformat_minor": 5
}
